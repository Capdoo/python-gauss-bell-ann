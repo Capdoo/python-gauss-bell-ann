{
 "cells": [
  {
   "cell_type": "code",
   "execution_count": 1,
   "id": "0265f923-cca3-4364-aa49-ab82a03af0c7",
   "metadata": {},
   "outputs": [],
   "source": [
    "import pandas as pd\n",
    "import numpy as np\n",
    "import matplotlib.pyplot as plt"
   ]
  },
  {
   "cell_type": "code",
   "execution_count": 2,
   "id": "1dafd9e7-f434-43ab-99f8-0a673fc17308",
   "metadata": {},
   "outputs": [],
   "source": [
    "def pdf(x,tar):\n",
    "    mean = np.mean(x)\n",
    "    std = np.std(x)+tar\n",
    "    y_out = 1/(std * np.sqrt(2 * np.pi)) * np.exp( - (x - mean)**2 / (2 * std**2))\n",
    "    return y_out"
   ]
  },
  {
   "cell_type": "code",
   "execution_count": 3,
   "id": "182e8ed7-a6d5-4dcc-a8f1-e159c5e3b570",
   "metadata": {},
   "outputs": [
    {
     "name": "stdout",
     "output_type": "stream",
     "text": [
      "L--------\n",
      "M--------\n",
      "H--------\n"
     ]
    },
    {
     "data": {
      "text/html": [
       "<div>\n",
       "<style scoped>\n",
       "    .dataframe tbody tr th:only-of-type {\n",
       "        vertical-align: middle;\n",
       "    }\n",
       "\n",
       "    .dataframe tbody tr th {\n",
       "        vertical-align: top;\n",
       "    }\n",
       "\n",
       "    .dataframe thead th {\n",
       "        text-align: right;\n",
       "    }\n",
       "</style>\n",
       "<table border=\"1\" class=\"dataframe\">\n",
       "  <thead>\n",
       "    <tr style=\"text-align: right;\">\n",
       "      <th></th>\n",
       "      <th>amplitude 0</th>\n",
       "      <th>amplitude 1</th>\n",
       "      <th>amplitude 2</th>\n",
       "      <th>amplitude 3</th>\n",
       "      <th>amplitude 4</th>\n",
       "      <th>amplitude 5</th>\n",
       "      <th>amplitude 6</th>\n",
       "      <th>amplitude 7</th>\n",
       "      <th>amplitude 8</th>\n",
       "      <th>amplitude 9</th>\n",
       "      <th>...</th>\n",
       "      <th>amplitude 50</th>\n",
       "      <th>amplitude 51</th>\n",
       "      <th>amplitude 52</th>\n",
       "      <th>amplitude 53</th>\n",
       "      <th>amplitude 54</th>\n",
       "      <th>amplitude 55</th>\n",
       "      <th>amplitude 56</th>\n",
       "      <th>amplitude 57</th>\n",
       "      <th>amplitude 58</th>\n",
       "      <th>amplitude 59</th>\n",
       "    </tr>\n",
       "  </thead>\n",
       "  <tbody>\n",
       "    <tr>\n",
       "      <th>0</th>\n",
       "      <td>1.000000</td>\n",
       "      <td>1.000000</td>\n",
       "      <td>1.000000</td>\n",
       "      <td>1.000000</td>\n",
       "      <td>1.000000</td>\n",
       "      <td>1.000000</td>\n",
       "      <td>1.000000</td>\n",
       "      <td>1.000000</td>\n",
       "      <td>1.000000</td>\n",
       "      <td>1.000000</td>\n",
       "      <td>...</td>\n",
       "      <td>3.000000</td>\n",
       "      <td>3.000000</td>\n",
       "      <td>3.000000</td>\n",
       "      <td>3.000000</td>\n",
       "      <td>3.000000</td>\n",
       "      <td>3.000000</td>\n",
       "      <td>3.000000</td>\n",
       "      <td>3.000000</td>\n",
       "      <td>3.000000</td>\n",
       "      <td>3.000000</td>\n",
       "    </tr>\n",
       "    <tr>\n",
       "      <th>1</th>\n",
       "      <td>0.042313</td>\n",
       "      <td>0.042464</td>\n",
       "      <td>0.042615</td>\n",
       "      <td>0.042765</td>\n",
       "      <td>0.042914</td>\n",
       "      <td>0.043062</td>\n",
       "      <td>0.043210</td>\n",
       "      <td>0.043357</td>\n",
       "      <td>0.043503</td>\n",
       "      <td>0.043648</td>\n",
       "      <td>...</td>\n",
       "      <td>0.054570</td>\n",
       "      <td>0.054645</td>\n",
       "      <td>0.054718</td>\n",
       "      <td>0.054791</td>\n",
       "      <td>0.054864</td>\n",
       "      <td>0.054936</td>\n",
       "      <td>0.055007</td>\n",
       "      <td>0.055078</td>\n",
       "      <td>0.055148</td>\n",
       "      <td>0.055218</td>\n",
       "    </tr>\n",
       "    <tr>\n",
       "      <th>2</th>\n",
       "      <td>0.043483</td>\n",
       "      <td>0.043634</td>\n",
       "      <td>0.043784</td>\n",
       "      <td>0.043933</td>\n",
       "      <td>0.044081</td>\n",
       "      <td>0.044229</td>\n",
       "      <td>0.044376</td>\n",
       "      <td>0.044522</td>\n",
       "      <td>0.044667</td>\n",
       "      <td>0.044811</td>\n",
       "      <td>...</td>\n",
       "      <td>0.055566</td>\n",
       "      <td>0.055638</td>\n",
       "      <td>0.055710</td>\n",
       "      <td>0.055781</td>\n",
       "      <td>0.055852</td>\n",
       "      <td>0.055922</td>\n",
       "      <td>0.055991</td>\n",
       "      <td>0.056060</td>\n",
       "      <td>0.056128</td>\n",
       "      <td>0.056195</td>\n",
       "    </tr>\n",
       "    <tr>\n",
       "      <th>3</th>\n",
       "      <td>0.044674</td>\n",
       "      <td>0.044824</td>\n",
       "      <td>0.044973</td>\n",
       "      <td>0.045121</td>\n",
       "      <td>0.045268</td>\n",
       "      <td>0.045415</td>\n",
       "      <td>0.045560</td>\n",
       "      <td>0.045705</td>\n",
       "      <td>0.045849</td>\n",
       "      <td>0.045993</td>\n",
       "      <td>...</td>\n",
       "      <td>0.056570</td>\n",
       "      <td>0.056640</td>\n",
       "      <td>0.056710</td>\n",
       "      <td>0.056779</td>\n",
       "      <td>0.056847</td>\n",
       "      <td>0.056915</td>\n",
       "      <td>0.056982</td>\n",
       "      <td>0.057049</td>\n",
       "      <td>0.057115</td>\n",
       "      <td>0.057180</td>\n",
       "    </tr>\n",
       "    <tr>\n",
       "      <th>4</th>\n",
       "      <td>0.045884</td>\n",
       "      <td>0.046033</td>\n",
       "      <td>0.046181</td>\n",
       "      <td>0.046328</td>\n",
       "      <td>0.046474</td>\n",
       "      <td>0.046620</td>\n",
       "      <td>0.046764</td>\n",
       "      <td>0.046908</td>\n",
       "      <td>0.047051</td>\n",
       "      <td>0.047193</td>\n",
       "      <td>...</td>\n",
       "      <td>0.057581</td>\n",
       "      <td>0.057649</td>\n",
       "      <td>0.057717</td>\n",
       "      <td>0.057783</td>\n",
       "      <td>0.057850</td>\n",
       "      <td>0.057915</td>\n",
       "      <td>0.057980</td>\n",
       "      <td>0.058045</td>\n",
       "      <td>0.058108</td>\n",
       "      <td>0.058172</td>\n",
       "    </tr>\n",
       "    <tr>\n",
       "      <th>...</th>\n",
       "      <td>...</td>\n",
       "      <td>...</td>\n",
       "      <td>...</td>\n",
       "      <td>...</td>\n",
       "      <td>...</td>\n",
       "      <td>...</td>\n",
       "      <td>...</td>\n",
       "      <td>...</td>\n",
       "      <td>...</td>\n",
       "      <td>...</td>\n",
       "      <td>...</td>\n",
       "      <td>...</td>\n",
       "      <td>...</td>\n",
       "      <td>...</td>\n",
       "      <td>...</td>\n",
       "      <td>...</td>\n",
       "      <td>...</td>\n",
       "      <td>...</td>\n",
       "      <td>...</td>\n",
       "      <td>...</td>\n",
       "      <td>...</td>\n",
       "    </tr>\n",
       "    <tr>\n",
       "      <th>196</th>\n",
       "      <td>0.047115</td>\n",
       "      <td>0.047262</td>\n",
       "      <td>0.047409</td>\n",
       "      <td>0.047555</td>\n",
       "      <td>0.047700</td>\n",
       "      <td>0.047844</td>\n",
       "      <td>0.047987</td>\n",
       "      <td>0.048130</td>\n",
       "      <td>0.048271</td>\n",
       "      <td>0.048412</td>\n",
       "      <td>...</td>\n",
       "      <td>0.058600</td>\n",
       "      <td>0.058666</td>\n",
       "      <td>0.058731</td>\n",
       "      <td>0.058795</td>\n",
       "      <td>0.058859</td>\n",
       "      <td>0.058923</td>\n",
       "      <td>0.058985</td>\n",
       "      <td>0.059048</td>\n",
       "      <td>0.059109</td>\n",
       "      <td>0.059170</td>\n",
       "    </tr>\n",
       "    <tr>\n",
       "      <th>197</th>\n",
       "      <td>0.045884</td>\n",
       "      <td>0.046033</td>\n",
       "      <td>0.046181</td>\n",
       "      <td>0.046328</td>\n",
       "      <td>0.046474</td>\n",
       "      <td>0.046620</td>\n",
       "      <td>0.046764</td>\n",
       "      <td>0.046908</td>\n",
       "      <td>0.047051</td>\n",
       "      <td>0.047193</td>\n",
       "      <td>...</td>\n",
       "      <td>0.057581</td>\n",
       "      <td>0.057649</td>\n",
       "      <td>0.057717</td>\n",
       "      <td>0.057783</td>\n",
       "      <td>0.057850</td>\n",
       "      <td>0.057915</td>\n",
       "      <td>0.057980</td>\n",
       "      <td>0.058045</td>\n",
       "      <td>0.058108</td>\n",
       "      <td>0.058172</td>\n",
       "    </tr>\n",
       "    <tr>\n",
       "      <th>198</th>\n",
       "      <td>0.044674</td>\n",
       "      <td>0.044824</td>\n",
       "      <td>0.044973</td>\n",
       "      <td>0.045121</td>\n",
       "      <td>0.045268</td>\n",
       "      <td>0.045415</td>\n",
       "      <td>0.045560</td>\n",
       "      <td>0.045705</td>\n",
       "      <td>0.045849</td>\n",
       "      <td>0.045993</td>\n",
       "      <td>...</td>\n",
       "      <td>0.056570</td>\n",
       "      <td>0.056640</td>\n",
       "      <td>0.056710</td>\n",
       "      <td>0.056779</td>\n",
       "      <td>0.056847</td>\n",
       "      <td>0.056915</td>\n",
       "      <td>0.056982</td>\n",
       "      <td>0.057049</td>\n",
       "      <td>0.057115</td>\n",
       "      <td>0.057180</td>\n",
       "    </tr>\n",
       "    <tr>\n",
       "      <th>199</th>\n",
       "      <td>0.043483</td>\n",
       "      <td>0.043634</td>\n",
       "      <td>0.043784</td>\n",
       "      <td>0.043933</td>\n",
       "      <td>0.044081</td>\n",
       "      <td>0.044229</td>\n",
       "      <td>0.044376</td>\n",
       "      <td>0.044522</td>\n",
       "      <td>0.044667</td>\n",
       "      <td>0.044811</td>\n",
       "      <td>...</td>\n",
       "      <td>0.055566</td>\n",
       "      <td>0.055638</td>\n",
       "      <td>0.055710</td>\n",
       "      <td>0.055781</td>\n",
       "      <td>0.055852</td>\n",
       "      <td>0.055922</td>\n",
       "      <td>0.055991</td>\n",
       "      <td>0.056060</td>\n",
       "      <td>0.056128</td>\n",
       "      <td>0.056195</td>\n",
       "    </tr>\n",
       "    <tr>\n",
       "      <th>200</th>\n",
       "      <td>0.042313</td>\n",
       "      <td>0.042464</td>\n",
       "      <td>0.042615</td>\n",
       "      <td>0.042765</td>\n",
       "      <td>0.042914</td>\n",
       "      <td>0.043062</td>\n",
       "      <td>0.043210</td>\n",
       "      <td>0.043357</td>\n",
       "      <td>0.043503</td>\n",
       "      <td>0.043648</td>\n",
       "      <td>...</td>\n",
       "      <td>0.054570</td>\n",
       "      <td>0.054645</td>\n",
       "      <td>0.054718</td>\n",
       "      <td>0.054791</td>\n",
       "      <td>0.054864</td>\n",
       "      <td>0.054936</td>\n",
       "      <td>0.055007</td>\n",
       "      <td>0.055078</td>\n",
       "      <td>0.055148</td>\n",
       "      <td>0.055218</td>\n",
       "    </tr>\n",
       "  </tbody>\n",
       "</table>\n",
       "<p>201 rows × 60 columns</p>\n",
       "</div>"
      ],
      "text/plain": [
       "     amplitude 0  amplitude 1  amplitude 2  amplitude 3  amplitude 4  \\\n",
       "0       1.000000     1.000000     1.000000     1.000000     1.000000   \n",
       "1       0.042313     0.042464     0.042615     0.042765     0.042914   \n",
       "2       0.043483     0.043634     0.043784     0.043933     0.044081   \n",
       "3       0.044674     0.044824     0.044973     0.045121     0.045268   \n",
       "4       0.045884     0.046033     0.046181     0.046328     0.046474   \n",
       "..           ...          ...          ...          ...          ...   \n",
       "196     0.047115     0.047262     0.047409     0.047555     0.047700   \n",
       "197     0.045884     0.046033     0.046181     0.046328     0.046474   \n",
       "198     0.044674     0.044824     0.044973     0.045121     0.045268   \n",
       "199     0.043483     0.043634     0.043784     0.043933     0.044081   \n",
       "200     0.042313     0.042464     0.042615     0.042765     0.042914   \n",
       "\n",
       "     amplitude 5  amplitude 6  amplitude 7  amplitude 8  amplitude 9  ...  \\\n",
       "0       1.000000     1.000000     1.000000     1.000000     1.000000  ...   \n",
       "1       0.043062     0.043210     0.043357     0.043503     0.043648  ...   \n",
       "2       0.044229     0.044376     0.044522     0.044667     0.044811  ...   \n",
       "3       0.045415     0.045560     0.045705     0.045849     0.045993  ...   \n",
       "4       0.046620     0.046764     0.046908     0.047051     0.047193  ...   \n",
       "..           ...          ...          ...          ...          ...  ...   \n",
       "196     0.047844     0.047987     0.048130     0.048271     0.048412  ...   \n",
       "197     0.046620     0.046764     0.046908     0.047051     0.047193  ...   \n",
       "198     0.045415     0.045560     0.045705     0.045849     0.045993  ...   \n",
       "199     0.044229     0.044376     0.044522     0.044667     0.044811  ...   \n",
       "200     0.043062     0.043210     0.043357     0.043503     0.043648  ...   \n",
       "\n",
       "     amplitude 50  amplitude 51  amplitude 52  amplitude 53  amplitude 54  \\\n",
       "0        3.000000      3.000000      3.000000      3.000000      3.000000   \n",
       "1        0.054570      0.054645      0.054718      0.054791      0.054864   \n",
       "2        0.055566      0.055638      0.055710      0.055781      0.055852   \n",
       "3        0.056570      0.056640      0.056710      0.056779      0.056847   \n",
       "4        0.057581      0.057649      0.057717      0.057783      0.057850   \n",
       "..            ...           ...           ...           ...           ...   \n",
       "196      0.058600      0.058666      0.058731      0.058795      0.058859   \n",
       "197      0.057581      0.057649      0.057717      0.057783      0.057850   \n",
       "198      0.056570      0.056640      0.056710      0.056779      0.056847   \n",
       "199      0.055566      0.055638      0.055710      0.055781      0.055852   \n",
       "200      0.054570      0.054645      0.054718      0.054791      0.054864   \n",
       "\n",
       "     amplitude 55  amplitude 56  amplitude 57  amplitude 58  amplitude 59  \n",
       "0        3.000000      3.000000      3.000000      3.000000      3.000000  \n",
       "1        0.054936      0.055007      0.055078      0.055148      0.055218  \n",
       "2        0.055922      0.055991      0.056060      0.056128      0.056195  \n",
       "3        0.056915      0.056982      0.057049      0.057115      0.057180  \n",
       "4        0.057915      0.057980      0.058045      0.058108      0.058172  \n",
       "..            ...           ...           ...           ...           ...  \n",
       "196      0.058923      0.058985      0.059048      0.059109      0.059170  \n",
       "197      0.057915      0.057980      0.058045      0.058108      0.058172  \n",
       "198      0.056915      0.056982      0.057049      0.057115      0.057180  \n",
       "199      0.055922      0.055991      0.056060      0.056128      0.056195  \n",
       "200      0.054936      0.055007      0.055078      0.055148      0.055218  \n",
       "\n",
       "[201 rows x 60 columns]"
      ]
     },
     "execution_count": 3,
     "metadata": {},
     "output_type": "execute_result"
    }
   ],
   "source": [
    "a=2\n",
    "b=10\n",
    "\n",
    "#200 x's\n",
    "m2 = 0.04\n",
    "\n",
    "x = np.arange(a, b, m2)\n",
    "\n",
    "print(\"L--------\")\n",
    "#Low concentration\n",
    "low = 0.10\n",
    "inc = 0\n",
    "\n",
    "k=0\n",
    "for i in range(20):\n",
    "    #print(i)\n",
    "    y = pdf(x,low+inc)\n",
    "    y = np.insert(y, 0, 1, axis=0)\n",
    "    \n",
    "    if(i==0):\n",
    "        data = {\"amplitude 0\":y}\n",
    "        df = pd.DataFrame(data)\n",
    "    else:    \n",
    "        name = \"amplitude \"+str(k)\n",
    "        df[name] = y\n",
    "    \n",
    "    \n",
    "    inc = inc+0.005\n",
    "    k+=1\n",
    "    \n",
    "print(\"M--------\")\n",
    "#Medium concentration\n",
    "medium = 0.40\n",
    "inc = 0\n",
    "for i in range(20):\n",
    "    #print(medium+inc)\n",
    "    y = pdf(x,medium+inc)\n",
    "    y = np.insert(y, 0, 2, axis=0)\n",
    "    \n",
    "    name = \"amplitude \"+str(k)\n",
    "    df[name] = y\n",
    "    \n",
    "    inc = inc+0.005\n",
    "    \n",
    "\n",
    "    k+=1\n",
    "    \n",
    "    \n",
    "print(\"H--------\")\n",
    "#High concentration\n",
    "high = 0.60\n",
    "inc = 0.0 \n",
    "for i in range(20):\n",
    "    #print(high+inc)\n",
    "    y = pdf(x, high+inc)\n",
    "    y = np.insert(y, 0, 3, axis=0)\n",
    "    \n",
    "    name = \"amplitude \"+str(k)\n",
    "    df[name] = y\n",
    "    \n",
    "    inc = inc+0.005\n",
    "    k+=1\n",
    "    \n",
    "#print(y)\n",
    "df "
   ]
  },
  {
   "cell_type": "code",
   "execution_count": 4,
   "id": "2437df3a-8b62-480b-ba1e-ad9bdff2ba05",
   "metadata": {},
   "outputs": [
    {
     "data": {
      "text/plain": [
       "array([[1.        , 1.        , 1.        , ..., 3.        , 3.        ,\n",
       "        3.        ],\n",
       "       [0.04231292, 0.04246433, 0.04261498, ..., 0.05507792, 0.05514814,\n",
       "        0.0552178 ],\n",
       "       [0.04348339, 0.04363406, 0.04378395, ..., 0.05605958, 0.05612776,\n",
       "        0.05619536],\n",
       "       ...,\n",
       "       [0.04467392, 0.04482371, 0.04497269, ..., 0.05704856, 0.05711461,\n",
       "        0.05718009],\n",
       "       [0.04348339, 0.04363406, 0.04378395, ..., 0.05605958, 0.05612776,\n",
       "        0.05619536],\n",
       "       [0.04231292, 0.04246433, 0.04261498, ..., 0.05507792, 0.05514814,\n",
       "        0.0552178 ]])"
      ]
     },
     "execution_count": 4,
     "metadata": {},
     "output_type": "execute_result"
    }
   ],
   "source": [
    "glucose_con = np.array(df)\n",
    "glucose_con"
   ]
  },
  {
   "cell_type": "code",
   "execution_count": 6,
   "id": "d33f7b03-a92c-4e69-b885-dd4f6b546a16",
   "metadata": {},
   "outputs": [],
   "source": [
    "m, n = glucose_con.shape"
   ]
  },
  {
   "cell_type": "code",
   "execution_count": 7,
   "id": "0387587c-2fe5-4f5c-8f54-702bcf573a9e",
   "metadata": {},
   "outputs": [
    {
     "data": {
      "text/plain": [
       "201"
      ]
     },
     "execution_count": 7,
     "metadata": {},
     "output_type": "execute_result"
    }
   ],
   "source": [
    "m"
   ]
  },
  {
   "cell_type": "code",
   "execution_count": 8,
   "id": "7d082c44-6934-470f-950c-d968a8f65ea6",
   "metadata": {},
   "outputs": [
    {
     "data": {
      "text/plain": [
       "60"
      ]
     },
     "execution_count": 8,
     "metadata": {},
     "output_type": "execute_result"
    }
   ],
   "source": [
    "n"
   ]
  },
  {
   "cell_type": "code",
   "execution_count": 9,
   "id": "9964e225-edcd-47be-ac1d-d4114a2f11eb",
   "metadata": {},
   "outputs": [],
   "source": [
    "data_train = glucose_con\n",
    "Y_train = data_train[0]\n",
    "X_train = data_train[1:]"
   ]
  },
  {
   "cell_type": "code",
   "execution_count": 12,
   "id": "43a871e6-c0ee-4a9c-b93b-a53dd5e3a975",
   "metadata": {},
   "outputs": [
    {
     "data": {
      "text/plain": [
       "60"
      ]
     },
     "execution_count": 12,
     "metadata": {},
     "output_type": "execute_result"
    }
   ],
   "source": [
    "Y_train = Y_train.astype(np.int64)\n",
    "Y_train.size"
   ]
  },
  {
   "cell_type": "code",
   "execution_count": 13,
   "id": "451e405e-f027-45c1-b9e1-1b04ed755df5",
   "metadata": {},
   "outputs": [
    {
     "data": {
      "text/plain": [
       "array([1, 1, 1, 1, 1, 1, 1, 1, 1, 1, 1, 1, 1, 1, 1, 1, 1, 1, 1, 1, 2, 2,\n",
       "       2, 2, 2, 2, 2, 2, 2, 2, 2, 2, 2, 2, 2, 2, 2, 2, 2, 2, 3, 3, 3, 3,\n",
       "       3, 3, 3, 3, 3, 3, 3, 3, 3, 3, 3, 3, 3, 3, 3, 3])"
      ]
     },
     "execution_count": 13,
     "metadata": {},
     "output_type": "execute_result"
    }
   ],
   "source": [
    "Y_train"
   ]
  },
  {
   "cell_type": "code",
   "execution_count": 14,
   "id": "f25f4467-e4c5-48ee-aa56-f9b63555aebd",
   "metadata": {},
   "outputs": [
    {
     "data": {
      "text/plain": [
       "array([[0.04231292, 0.04246433, 0.04261498, ..., 0.05507792, 0.05514814,\n",
       "        0.0552178 ],\n",
       "       [0.04348339, 0.04363406, 0.04378395, ..., 0.05605958, 0.05612776,\n",
       "        0.05619536],\n",
       "       [0.04467392, 0.04482371, 0.04497269, ..., 0.05704856, 0.05711461,\n",
       "        0.05718009],\n",
       "       ...,\n",
       "       [0.04467392, 0.04482371, 0.04497269, ..., 0.05704856, 0.05711461,\n",
       "        0.05718009],\n",
       "       [0.04348339, 0.04363406, 0.04378395, ..., 0.05605958, 0.05612776,\n",
       "        0.05619536],\n",
       "       [0.04231292, 0.04246433, 0.04261498, ..., 0.05507792, 0.05514814,\n",
       "        0.0552178 ]])"
      ]
     },
     "execution_count": 14,
     "metadata": {},
     "output_type": "execute_result"
    }
   ],
   "source": [
    "X_train"
   ]
  },
  {
   "cell_type": "code",
   "execution_count": 15,
   "id": "c3e65f21-8013-4ec1-b6e6-b736310d1c89",
   "metadata": {},
   "outputs": [
    {
     "data": {
      "text/plain": [
       "(200, 60)"
      ]
     },
     "execution_count": 15,
     "metadata": {},
     "output_type": "execute_result"
    }
   ],
   "source": [
    "X_train.shape"
   ]
  },
  {
   "cell_type": "code",
   "execution_count": 16,
   "id": "43ca94d6-b802-4f62-8a0f-7d5bf760d2c8",
   "metadata": {},
   "outputs": [
    {
     "data": {
      "text/plain": [
       "(60,)"
      ]
     },
     "execution_count": 16,
     "metadata": {},
     "output_type": "execute_result"
    }
   ],
   "source": [
    "Y_train.shape"
   ]
  },
  {
   "cell_type": "code",
   "execution_count": null,
   "id": "081839f1-bb1d-4bb0-9d31-b38f489e86bc",
   "metadata": {},
   "outputs": [],
   "source": []
  },
  {
   "cell_type": "code",
   "execution_count": null,
   "id": "a05d0f71-c4dc-4b80-845e-72d3d99f90f0",
   "metadata": {},
   "outputs": [],
   "source": []
  },
  {
   "cell_type": "code",
   "execution_count": 21,
   "id": "68e8760d-ddb4-4df7-a74b-be39616e8560",
   "metadata": {},
   "outputs": [
    {
     "ename": "ValueError",
     "evalue": "operands could not be broadcast together with shapes (3,60) (4,60) ",
     "output_type": "error",
     "traceback": [
      "\u001b[0;31m---------------------------------------------------------------------------\u001b[0m",
      "\u001b[0;31mValueError\u001b[0m                                Traceback (most recent call last)",
      "Input \u001b[0;32mIn [21]\u001b[0m, in \u001b[0;36m<cell line: 88>\u001b[0;34m()\u001b[0m\n\u001b[1;32m     85\u001b[0m             \u001b[38;5;28mprint\u001b[39m(get_accuracy(predictions, Y))\n\u001b[1;32m     86\u001b[0m     \u001b[38;5;28;01mreturn\u001b[39;00m W1, b1, W2, b2\n\u001b[0;32m---> 88\u001b[0m W1, b1, W2, b2 \u001b[38;5;241m=\u001b[39m \u001b[43mgradient_descent\u001b[49m\u001b[43m(\u001b[49m\u001b[43mX_train\u001b[49m\u001b[43m,\u001b[49m\u001b[43m \u001b[49m\u001b[43mY_train\u001b[49m\u001b[43m,\u001b[49m\u001b[43m \u001b[49m\u001b[38;5;241;43m0.10\u001b[39;49m\u001b[43m,\u001b[49m\u001b[43m \u001b[49m\u001b[38;5;241;43m1500\u001b[39;49m\u001b[43m)\u001b[49m\n",
      "Input \u001b[0;32mIn [21]\u001b[0m, in \u001b[0;36mgradient_descent\u001b[0;34m(X, Y, alpha, iterations)\u001b[0m\n\u001b[1;32m     78\u001b[0m \u001b[38;5;28;01mfor\u001b[39;00m i \u001b[38;5;129;01min\u001b[39;00m \u001b[38;5;28mrange\u001b[39m(iterations):\n\u001b[1;32m     79\u001b[0m     Z1, A1, Z2, A2 \u001b[38;5;241m=\u001b[39m forward_prop(W1, b1, W2, b2, X)\n\u001b[0;32m---> 80\u001b[0m     dW1, db1, dW2, db2 \u001b[38;5;241m=\u001b[39m \u001b[43mbackward_prop\u001b[49m\u001b[43m(\u001b[49m\u001b[43mZ1\u001b[49m\u001b[43m,\u001b[49m\u001b[43m \u001b[49m\u001b[43mA1\u001b[49m\u001b[43m,\u001b[49m\u001b[43m \u001b[49m\u001b[43mZ2\u001b[49m\u001b[43m,\u001b[49m\u001b[43m \u001b[49m\u001b[43mA2\u001b[49m\u001b[43m,\u001b[49m\u001b[43m \u001b[49m\u001b[43mW1\u001b[49m\u001b[43m,\u001b[49m\u001b[43m \u001b[49m\u001b[43mW2\u001b[49m\u001b[43m,\u001b[49m\u001b[43m \u001b[49m\u001b[43mX\u001b[49m\u001b[43m,\u001b[49m\u001b[43m \u001b[49m\u001b[43mY\u001b[49m\u001b[43m)\u001b[49m\n\u001b[1;32m     81\u001b[0m     W1, b1, W2, b2 \u001b[38;5;241m=\u001b[39m update_params(W1, b1, W2, b2, dW1, db1, dW2, db2, alpha)\n\u001b[1;32m     82\u001b[0m     \u001b[38;5;28;01mif\u001b[39;00m i \u001b[38;5;241m%\u001b[39m \u001b[38;5;241m10\u001b[39m \u001b[38;5;241m==\u001b[39m \u001b[38;5;241m0\u001b[39m:\n",
      "Input \u001b[0;32mIn [21]\u001b[0m, in \u001b[0;36mbackward_prop\u001b[0;34m(Z1, A1, Z2, A2, W1, W2, X, Y)\u001b[0m\n\u001b[1;32m     48\u001b[0m one_hot_Y \u001b[38;5;241m=\u001b[39m one_hot(Y)\n\u001b[1;32m     49\u001b[0m \u001b[38;5;66;03m#print(\"One_Hot_Y forma\",one_hot_Y.shape)\u001b[39;00m\n\u001b[1;32m     50\u001b[0m \n\u001b[1;32m     51\u001b[0m \u001b[38;5;66;03m#print(\"A2 shape forma\",A2.shape)\u001b[39;00m\n\u001b[0;32m---> 53\u001b[0m dZ2 \u001b[38;5;241m=\u001b[39m \u001b[43mA2\u001b[49m\u001b[43m \u001b[49m\u001b[38;5;241;43m-\u001b[39;49m\u001b[43m \u001b[49m\u001b[43mone_hot_Y\u001b[49m\n\u001b[1;32m     54\u001b[0m dW2 \u001b[38;5;241m=\u001b[39m \u001b[38;5;241m1\u001b[39m \u001b[38;5;241m/\u001b[39m m \u001b[38;5;241m*\u001b[39m dZ2\u001b[38;5;241m.\u001b[39mdot(A1\u001b[38;5;241m.\u001b[39mT)\n\u001b[1;32m     55\u001b[0m db2 \u001b[38;5;241m=\u001b[39m \u001b[38;5;241m1\u001b[39m \u001b[38;5;241m/\u001b[39m m \u001b[38;5;241m*\u001b[39m np\u001b[38;5;241m.\u001b[39msum(dZ2)\n",
      "\u001b[0;31mValueError\u001b[0m: operands could not be broadcast together with shapes (3,60) (4,60) "
     ]
    }
   ],
   "source": [
    "def init_params():\n",
    "    W1 = np.random.rand(10, 200) - 0.5\n",
    "    b1 = np.random.rand(10, 1) - 0.5\n",
    "    W2 = np.random.rand(3, 10) - 0.5\n",
    "    b2 = np.random.rand(3, 1) - 0.5\n",
    "    return W1, b1, W2, b2\n",
    "\n",
    "\n",
    "def ReLU(Z):\n",
    "    return np.maximum(Z, 0)\n",
    "\n",
    "def softmax(Z):\n",
    "    A = np.exp(Z) / sum(np.exp(Z))\n",
    "    return A\n",
    "    \n",
    "def forward_prop(W1, b1, W2, b2, X):\n",
    "    Z1 = W1.dot(X) + b1\n",
    "    A1 = ReLU(Z1)\n",
    "    Z2 = W2.dot(A1) + b2\n",
    "    A2 = softmax(Z2)\n",
    "    return Z1, A1, Z2, A2\n",
    "\n",
    "def ReLU_deriv(Z):\n",
    "    return Z > 0\n",
    "\n",
    "def one_hot(Y):\n",
    "    #print(\"---Dentro de la funcion one_hot---\")\n",
    "    #print(\"Asi entra Y_train\",Y)\n",
    "    #print(\"Datos:\",Y.size)\n",
    "    #print(\"Datos:\",Y.max())\n",
    "\n",
    "    one_hot_Y = np.zeros((Y.size, Y.max() + 1))\n",
    "    #one_hot_Y = np.zeros((Y.size, 3))\n",
    "    \n",
    "    #print(\"Luego de pasar por np zeros\",one_hot_Y.shape)\n",
    "    #print(\"Que es Y.size\",Y.size)\n",
    "    #print(\"Que es arrange\",np.arange(Y.size))\n",
    "    one_hot_Y[np.arange(Y.size), Y] = 1\n",
    "    \n",
    "    one_hot_Y = one_hot_Y.T\n",
    "    #print(\"Este es el one_hot_Y\", one_hot_Y.shape)\n",
    "    #print(\"---Final de la funcion one_hot---\")\n",
    "    return one_hot_Y\n",
    "\n",
    "def backward_prop(Z1, A1, Z2, A2, W1, W2, X, Y):\n",
    "    #print(\"---Dentro de la funcion back_prop---\")\n",
    "    #print(\"Y forma\",Y.shape)\n",
    "    one_hot_Y = one_hot(Y)\n",
    "    #print(\"One_Hot_Y forma\",one_hot_Y.shape)\n",
    "\n",
    "    #print(\"A2 shape forma\",A2.shape)\n",
    "    \n",
    "    dZ2 = A2 - one_hot_Y\n",
    "    dW2 = 1 / m * dZ2.dot(A1.T)\n",
    "    db2 = 1 / m * np.sum(dZ2)\n",
    "    dZ1 = W2.T.dot(dZ2) * ReLU_deriv(Z1)\n",
    "    dW1 = 1 / m * dZ1.dot(X.T)\n",
    "    db1 = 1 / m * np.sum(dZ1)\n",
    "    #print(\"---Final de la funcion back_prop---\")\n",
    "    return dW1, db1, dW2, db2\n",
    "\n",
    "def update_params(W1, b1, W2, b2, dW1, db1, dW2, db2, alpha):\n",
    "    W1 = W1 - alpha * dW1\n",
    "    b1 = b1 - alpha * db1    \n",
    "    W2 = W2 - alpha * dW2  \n",
    "    b2 = b2 - alpha * db2    \n",
    "    return W1, b1, W2, b2\n",
    "\n",
    "def get_predictions(A2):\n",
    "    return np.argmax(A2, 0)\n",
    "\n",
    "def get_accuracy(predictions, Y):\n",
    "    print(predictions, Y)\n",
    "    return np.sum(predictions == Y) / Y.size\n",
    "\n",
    "def gradient_descent(X, Y, alpha, iterations):\n",
    "    W1, b1, W2, b2 = init_params()\n",
    "    for i in range(iterations):\n",
    "        Z1, A1, Z2, A2 = forward_prop(W1, b1, W2, b2, X)\n",
    "        dW1, db1, dW2, db2 = backward_prop(Z1, A1, Z2, A2, W1, W2, X, Y)\n",
    "        W1, b1, W2, b2 = update_params(W1, b1, W2, b2, dW1, db1, dW2, db2, alpha)\n",
    "        if i % 10 == 0:\n",
    "            print(\"Iteration: \", i)\n",
    "            predictions = get_predictions(A2)\n",
    "            print(get_accuracy(predictions, Y))\n",
    "    return W1, b1, W2, b2\n",
    "\n",
    "W1, b1, W2, b2 = gradient_descent(X_train, Y_train, 0.10, 1500)\n"
   ]
  },
  {
   "cell_type": "code",
   "execution_count": null,
   "id": "f1c9c9f3-327f-483c-8637-5df8879ae8bf",
   "metadata": {},
   "outputs": [],
   "source": []
  },
  {
   "cell_type": "code",
   "execution_count": 17,
   "id": "e05d9173-e7b3-4d07-8171-881d9d1aa830",
   "metadata": {},
   "outputs": [
    {
     "data": {
      "text/plain": [
       "array([[0.69070596],\n",
       "       [0.1650637 ],\n",
       "       [0.07409892],\n",
       "       [0.44680992],\n",
       "       [0.82248319],\n",
       "       [0.22863608],\n",
       "       [0.4599073 ],\n",
       "       [0.97292986],\n",
       "       [0.42840732],\n",
       "       [0.84388268],\n",
       "       [0.90064995],\n",
       "       [0.2137709 ]])"
      ]
     },
     "execution_count": 17,
     "metadata": {},
     "output_type": "execute_result"
    }
   ],
   "source": [
    "np.random.rand(12, 1)"
   ]
  },
  {
   "cell_type": "code",
   "execution_count": null,
   "id": "d8bb6ae9-c940-4c8c-88b8-5edbc5ae0a5d",
   "metadata": {},
   "outputs": [],
   "source": []
  },
  {
   "cell_type": "code",
   "execution_count": null,
   "id": "0de0c8f4-ae72-442b-b639-2de79f11c502",
   "metadata": {},
   "outputs": [],
   "source": []
  },
  {
   "cell_type": "code",
   "execution_count": null,
   "id": "1e307d2b-9713-44a4-b41a-98dc8b002b48",
   "metadata": {},
   "outputs": [],
   "source": []
  },
  {
   "cell_type": "code",
   "execution_count": null,
   "id": "c4189b84-1149-4400-8a10-a89de6653c67",
   "metadata": {},
   "outputs": [],
   "source": []
  },
  {
   "cell_type": "code",
   "execution_count": null,
   "id": "c4ba590f-951b-4c44-bf2e-ad9f93acffab",
   "metadata": {},
   "outputs": [],
   "source": []
  },
  {
   "cell_type": "code",
   "execution_count": null,
   "id": "c1908fb9-d43d-404c-8953-b46911e688eb",
   "metadata": {},
   "outputs": [],
   "source": []
  },
  {
   "cell_type": "code",
   "execution_count": null,
   "id": "fa86c5d4-38d6-490f-ac20-174bd0f56604",
   "metadata": {},
   "outputs": [],
   "source": []
  },
  {
   "cell_type": "code",
   "execution_count": null,
   "id": "d2b6f005-c723-4ecf-b3bc-e1f62eaa2d24",
   "metadata": {},
   "outputs": [],
   "source": []
  },
  {
   "cell_type": "code",
   "execution_count": null,
   "id": "66a70d3e-1f0e-412f-952b-0a0dc56ef47d",
   "metadata": {},
   "outputs": [],
   "source": []
  },
  {
   "cell_type": "code",
   "execution_count": 55,
   "id": "96c7f4c2-4946-46a7-bd1b-b1a679318cb7",
   "metadata": {},
   "outputs": [],
   "source": [
    "x1 = np.arange(a, b, 0.04)\n",
    "x2 = np.arange(a, b, 0.1)\n",
    "x3 = np.arange(a, b, 0.1)\n",
    "x4 = np.arange(a, b, 0.1)\n",
    "\n",
    "x5 = np.arange(a, b, 0.1)\n",
    "x6 = np.arange(a, b, 0.1)\n",
    "x7 = np.arange(a, b, 0.1)\n",
    "x8 = np.arange(a, b, 0.1)\n",
    "\n",
    "x9 = np.arange(a, b, 0.1)\n",
    "x10 = np.arange(a, b, 0.1)\n",
    "x11 = np.arange(a, b, 0.1)\n",
    "x12 = np.arange(a, b, 0.1)"
   ]
  },
  {
   "cell_type": "code",
   "execution_count": 45,
   "id": "02741030-526c-4715-b293-2fa541cd3415",
   "metadata": {},
   "outputs": [
    {
     "data": {
      "text/plain": [
       "array([2.  , 2.04, 2.08, 2.12, 2.16, 2.2 , 2.24, 2.28, 2.32, 2.36, 2.4 ,\n",
       "       2.44, 2.48, 2.52, 2.56, 2.6 , 2.64, 2.68, 2.72, 2.76, 2.8 , 2.84,\n",
       "       2.88, 2.92, 2.96, 3.  , 3.04, 3.08, 3.12, 3.16, 3.2 , 3.24, 3.28,\n",
       "       3.32, 3.36, 3.4 , 3.44, 3.48, 3.52, 3.56, 3.6 , 3.64, 3.68, 3.72,\n",
       "       3.76, 3.8 , 3.84, 3.88, 3.92, 3.96, 4.  , 4.04, 4.08, 4.12, 4.16,\n",
       "       4.2 , 4.24, 4.28, 4.32, 4.36, 4.4 , 4.44, 4.48, 4.52, 4.56, 4.6 ,\n",
       "       4.64, 4.68, 4.72, 4.76, 4.8 , 4.84, 4.88, 4.92, 4.96, 5.  , 5.04,\n",
       "       5.08, 5.12, 5.16, 5.2 , 5.24, 5.28, 5.32, 5.36, 5.4 , 5.44, 5.48,\n",
       "       5.52, 5.56, 5.6 , 5.64, 5.68, 5.72, 5.76, 5.8 , 5.84, 5.88, 5.92,\n",
       "       5.96, 6.  , 6.04, 6.08, 6.12, 6.16, 6.2 , 6.24, 6.28, 6.32, 6.36,\n",
       "       6.4 , 6.44, 6.48, 6.52, 6.56, 6.6 , 6.64, 6.68, 6.72, 6.76, 6.8 ,\n",
       "       6.84, 6.88, 6.92, 6.96, 7.  , 7.04, 7.08, 7.12, 7.16, 7.2 , 7.24,\n",
       "       7.28, 7.32, 7.36, 7.4 , 7.44, 7.48, 7.52, 7.56, 7.6 , 7.64, 7.68,\n",
       "       7.72, 7.76, 7.8 , 7.84, 7.88, 7.92, 7.96, 8.  , 8.04, 8.08, 8.12,\n",
       "       8.16, 8.2 , 8.24, 8.28, 8.32, 8.36, 8.4 , 8.44, 8.48, 8.52, 8.56,\n",
       "       8.6 , 8.64, 8.68, 8.72, 8.76, 8.8 , 8.84, 8.88, 8.92, 8.96, 9.  ,\n",
       "       9.04, 9.08, 9.12, 9.16, 9.2 , 9.24, 9.28, 9.32, 9.36, 9.4 , 9.44,\n",
       "       9.48, 9.52, 9.56, 9.6 , 9.64, 9.68, 9.72, 9.76, 9.8 , 9.84, 9.88,\n",
       "       9.92, 9.96])"
      ]
     },
     "execution_count": 45,
     "metadata": {},
     "output_type": "execute_result"
    }
   ],
   "source": [
    "x1"
   ]
  },
  {
   "cell_type": "code",
   "execution_count": 68,
   "id": "5c7820b2-563d-4d69-85eb-860d5df45a5a",
   "metadata": {},
   "outputs": [],
   "source": [
    "y1 = pdf(x1,0.10)\n",
    "y2 = pdf(x2,0.12)\n",
    "y3 = pdf(x3,0.13)\n",
    "y4 = pdf(x4,0.14)\n",
    "\n",
    "y5 = pdf(x5,0.41)\n",
    "y6 = pdf(x6,0.42)\n",
    "y7 = pdf(x7,0.43)\n",
    "y8 = pdf(x8,0.44)\n",
    "\n",
    "y9 = pdf(x9,0.71)\n",
    "y10 = pdf(x10,0.72)\n",
    "y11 = pdf(x11,0.73)\n",
    "y12 = pdf(x12,0.74)"
   ]
  },
  {
   "cell_type": "code",
   "execution_count": 69,
   "id": "6f3e3bb6-33b4-4224-945b-37660a8227b5",
   "metadata": {},
   "outputs": [
    {
     "data": {
      "text/plain": [
       "[<matplotlib.lines.Line2D at 0x7f264630abc0>]"
      ]
     },
     "execution_count": 69,
     "metadata": {},
     "output_type": "execute_result"
    },
    {
     "data": {
      "image/png": "[encoded data removed]",
      "text/plain": [
       "<Figure size 600x600 with 1 Axes>"
      ]
     },
     "metadata": {},
     "output_type": "display_data"
    }
   ],
   "source": [
    "plt.style.use('seaborn')\n",
    "plt.figure(figsize = (6, 6))\n",
    "plt.plot(x1, y1, color = 'blue')\n",
    "plt.plot(x2, y2, color = 'red')\n",
    "plt.plot(x3, y3, color = 'red')\n",
    "plt.plot(x4, y4, color = 'green')\n",
    "\n",
    "plt.plot(x5, y5, color = 'blue')\n",
    "plt.plot(x6, y6, color = 'blue')\n",
    "plt.plot(x7, y7, color = 'blue')\n",
    "plt.plot(x8, y8, color = 'blue')\n",
    "\n",
    "plt.plot(x9, y9, color = 'green')\n",
    "plt.plot(x10, y10, color = 'green')\n",
    "plt.plot(x11, y11, color = 'green')\n",
    "plt.plot(x12, y12, color = 'green')"
   ]
  },
  {
   "cell_type": "code",
   "execution_count": null,
   "id": "ee215de0-52b9-4a4d-acd8-7c637945f753",
   "metadata": {},
   "outputs": [],
   "source": []
  },
  {
   "cell_type": "code",
   "execution_count": null,
   "id": "e6141717-1f8d-48aa-85c5-124db2926aee",
   "metadata": {},
   "outputs": [],
   "source": [
    "ax.plot(x1,y1, '-y', label='PaTu 8988S')\n",
    "ax.plot(x2,y2, '-r', label='PaTu 8988T')\n",
    "#ax.plot(x_cs_09,y_cs_09, '-g', label='PaTu 8988T PLXIN')\n",
    "#ax.plot(x_cs_12,y_cs_12, '-b', label='Normal')\n",
    "leg = ax.legend();\n"
   ]
  },
  {
   "cell_type": "code",
   "execution_count": null,
   "id": "613fb793-78c8-4d9c-92a2-f797d507a14b",
   "metadata": {},
   "outputs": [],
   "source": []
  },
  {
   "cell_type": "code",
   "execution_count": null,
   "id": "cb51883c-54b6-4034-98a7-c7c611cb4770",
   "metadata": {},
   "outputs": [],
   "source": []
  },
  {
   "cell_type": "code",
   "execution_count": null,
   "id": "369d56c4-8b41-4d89-b633-22269975d605",
   "metadata": {},
   "outputs": [],
   "source": []
  }
 ],
 "metadata": {
  "kernelspec": {
   "display_name": "Python 3 (ipykernel)",
   "language": "python",
   "name": "python3"
  },
  "language_info": {
   "codemirror_mode": {
    "name": "ipython",
    "version": 3
   },
   "file_extension": ".py",
   "mimetype": "text/x-python",
   "name": "python",
   "nbconvert_exporter": "python",
   "pygments_lexer": "ipython3",
   "version": "3.10.4"
  }
 },
 "nbformat": 4,
 "nbformat_minor": 5
}
